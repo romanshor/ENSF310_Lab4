{
 "metadata": {
  "language_info": {
   "codemirror_mode": {
    "name": "ipython",
    "version": 3
   },
   "file_extension": ".py",
   "mimetype": "text/x-python",
   "name": "python",
   "nbconvert_exporter": "python",
   "pygments_lexer": "ipython3",
   "version": "3.8.3-final"
  },
  "orig_nbformat": 2,
  "kernelspec": {
   "name": "python3",
   "display_name": "Python 3"
  }
 },
 "nbformat": 4,
 "nbformat_minor": 2,
 "cells": [
  {
   "source": [
    "# ENSF 310 Lab Assignment #4\n",
    "\n",
    "## COVID-19 and Global CO2 Levels\n",
    "\n",
    "In this lab, you will look at the CO2 data collected at the Moana Loa observatory in Hawaii (https://www.esrl.noaa.gov/gmd/ccgg/trends/).  Starting in January, 2020, various parts of the world have been under some form of shutdown.  Has this affected global CO2 levels?\n",
    "\n",
    "Two text files are included in the github repository:\n",
    "- `MLOdaily2020.co2` - contains provisional daily CO2 data for 2020 through the end of October.\n",
    "- `co2_mlo_surface-insitu_1_ccgg_HourlyData.txt` contains the history hourly CO2 data from 1973.  Note that missing data is denoted by -999.99\n",
    "\n",
    "Open both files in a text editor first to understand the file structure.  Things to note are the location of the header row and deliminator (comma, space, etc).\n",
    "\n",
    "Working individually, your task is to load the data into Python, filter it and then generate a plot that shows:\n",
    "- CO2 vs time since 2000 including the hourly data and the running average\n",
    "- Annual CO2 data from Jan through Dec since 2020, with the 2020 data plotted on top in another color.\n",
    "- Annual increase in CO2 since 2000.\n",
    "\n",
    "The image below is an example of what your final plot should look like.  Note, this plot shows data since 1980 and only includes data through June 2020.\n",
    "\n",
    "<img src=\"Data.jpg\"></img>\n",
    "\n",
    "Some potentially useful resources to help you get started:\n",
    "- How to read a file using pandas: https://stackoverflow.com/questions/19632075/how-to-read-file-with-space-separated-values-in-pandas\n",
    "- Filtering data in pandas: https://stackoverflow.com/questions/18172851/deleting-dataframe-row-in-pandas-based-on-column-value \n",
    "- Moving average and plotting: https://towardsdatascience.com/moving-averages-in-python-16170e20f6c \n",
    "- Plotting data in Matplotlib: https://matplotlib.org/gallery/lines_bars_and_markers/csd_demo.html#sphx-glr-gallery-lines-bars-and-markers-csd-demo-py"
   ],
   "cell_type": "markdown",
   "metadata": {}
  },
  {
   "cell_type": "code",
   "execution_count": null,
   "metadata": {},
   "outputs": [],
   "source": []
  }
 ]
}